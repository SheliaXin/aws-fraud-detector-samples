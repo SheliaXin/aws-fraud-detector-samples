{
 "cells": [
  {
   "cell_type": "markdown",
   "metadata": {},
   "source": [
    "# Fraud Detector - Batch Prediction API Example \n",
    "#### Supervised fraud detection  \n",
    "-------\n",
    "\n",
    "## Setup\n",
    "------\n",
    "First setup your AWS credentials so that Fraud Detector can store and access training data and supporting detector artifacts.\n",
    "\n",
    "https://docs.aws.amazon.com/frauddetector/latest/ug/set-up.html\n",
    "\n",
    "To use Amazon Fraud Detector, you have to set up permissions that allow access to the Amazon Fraud Detector console and API operations. You also have to allow Amazon Fraud Detector to perform tasks on your behalf and to access resources that you own.\n",
    "\n",
    "We recommend creating an AWS Identify and Access Management (IAM) user with access restricted to Amazon Fraud Detector operations and required permissions. You can add other permissions as needed.\n",
    "\n",
    "## Plan\n",
    "------\n",
    "\n",
    "You'll need the following pieces of information to make predictions on your dataset. \n",
    "\n",
    "- ENTITY_TYPE  \n",
    "- EVENT_TYPE    \n",
    "- DETECTOR_NAME & VERSION\n",
    "\n",
    "\n",
    "You'll also need to identify how many records you'd like to predict on.  \n"
   ]
  },
  {
   "cell_type": "code",
   "execution_count": 16,
   "metadata": {},
   "outputs": [],
   "source": [
    "# # Upgrade boto3 to the latest version\n",
    "\n",
    "# !pip install -U boto3"
   ]
  },
  {
   "cell_type": "code",
   "execution_count": 2,
   "metadata": {},
   "outputs": [
    {
     "data": {
      "text/html": [
       "<style>.container { width:90% }</style>"
      ],
      "text/plain": [
       "<IPython.core.display.HTML object>"
      ]
     },
     "metadata": {},
     "output_type": "display_data"
    }
   ],
   "source": [
    "from IPython.core.display import display, HTML\n",
    "from IPython.display import clear_output\n",
    "display(HTML(\"<style>.container { width:90% }</style>\"))\n",
    "# ------------------------------------------------------------------\n",
    "\n",
    "import matplotlib.pyplot as plt\n",
    "import seaborn as sns\n",
    "\n",
    "import numpy as np\n",
    "np.seterr(divide='ignore', invalid='ignore')\n",
    "\n",
    "\n",
    "import pandas as pd\n",
    "import uuid \n",
    "from datetime import datetime\n",
    "from io import StringIO # python3; python2: BytesIO \n",
    "\n",
    "pd.set_option('display.max_rows', 500)\n",
    "pd.set_option('display.max_columns', 500)\n",
    "pd.set_option('display.width', 1000)\n",
    "\n",
    "# -- dask for parallelism -- \n",
    "import dask \n",
    "\n",
    "# -- standard stuff -- \n",
    "import time\n",
    "from datetime import datetime\n",
    "\n",
    "# -- AWS stuff -- \n",
    "import boto3\n",
    "\n",
    "%matplotlib inline"
   ]
  },
  {
   "cell_type": "code",
   "execution_count": 3,
   "metadata": {},
   "outputs": [
    {
     "data": {
      "text/plain": [
       "'1.17.47'"
      ]
     },
     "execution_count": 3,
     "metadata": {},
     "output_type": "execute_result"
    }
   ],
   "source": [
    "boto3.__version__"
   ]
  },
  {
   "cell_type": "markdown",
   "metadata": {},
   "source": [
    "## Initialize AWS Fraud Detector Client \n",
    "------\n",
    "\n",
    "https://boto3.amazonaws.com/v1/documentation/api/latest/reference/services/frauddetector.html \n"
   ]
  },
  {
   "cell_type": "code",
   "execution_count": 18,
   "metadata": {},
   "outputs": [],
   "source": [
    "# -- fraud detector client --\n",
    "client = boto3.client('frauddetector',)\n",
    "s3_client = boto3.client('s3')\n",
    "\n",
    "# -- use this to append to files \n",
    "sufx   = datetime.now().strftime(\"%Y%m%d\")"
   ]
  },
  {
   "cell_type": "markdown",
   "metadata": {},
   "source": [
    "### Entity, Detector, Model, and File Information  \n",
    "-----\n",
    "<div class=\"alert alert-info\"> 💡 <strong> Entity, Detector, and Files. </strong>\n",
    "\n",
    "- DETECTOR_NAME & VERSION corresponds to the name and version of your deployed Fraud Detector  \n",
    "- MODEL_NAME & VERSION corresponds to the name and version of the model deployed with your Fraud Detector   \n",
    "- S3_BUCKET & S3_FILE this is the information on the S3 file you wish to apply your detector to.   \n",
    "\n",
    "</div>"
   ]
  },
  {
   "cell_type": "code",
   "execution_count": 4,
   "metadata": {},
   "outputs": [],
   "source": [
    "ENTITY_TYPE    = \"your_entity_type\"\n",
    "EVENT_TYPE     = \"your_event_type\" \n",
    "\n",
    "DETECTOR_NAME = \"your_detector_name\"\n",
    "DETECTOR_VER  = \"your_detector_version\"\n",
    "\n",
    "# -- name and version of model, used to get the model column names -- \n",
    "MODEL_NAME    = \"your_model_name\"\n",
    "MODEL_VER     = \"your_model_version\"\n",
    "\n",
    "# s3://afd-training-data/schwab_sample_prep.csv\n",
    "\n",
    "# -- input file of data to be scored -- \n",
    "ARN_ROLE      = \"your_iam_arn_role\" \n",
    "S3_BUCKET     = \"your_bucket_name\"\n",
    "S3_FILE       = \"your_prediction_file.csv\"\n",
    "S3_FILE_LOC   = \"s3://{0}/{1}\".format(S3_BUCKET,S3_FILE)\n",
    "\n",
    "# -- run 100 records, you can change this here or below to run the whole file.\n",
    "record_count = 100"
   ]
  },
  {
   "cell_type": "markdown",
   "metadata": {},
   "source": [
    "#### Load Data to be Scored \n",
    "-----\n",
    "<div class=\"alert alert-info\"> 💡 <strong> Check the first 5 Records. </strong>\n",
    "\n",
    "Does your data look correct? Do you need to rename any columns? You want the column names to match the field names used by the Model. \n",
    "\n",
    "</div>"
   ]
  },
  {
   "cell_type": "code",
   "execution_count": 6,
   "metadata": {},
   "outputs": [
    {
     "data": {
      "text/html": [
       "<div>\n",
       "<style scoped>\n",
       "    .dataframe tbody tr th:only-of-type {\n",
       "        vertical-align: middle;\n",
       "    }\n",
       "\n",
       "    .dataframe tbody tr th {\n",
       "        vertical-align: top;\n",
       "    }\n",
       "\n",
       "    .dataframe thead th {\n",
       "        text-align: right;\n",
       "    }\n",
       "</style>\n",
       "<table border=\"1\" class=\"dataframe\">\n",
       "  <thead>\n",
       "    <tr style=\"text-align: right;\">\n",
       "      <th></th>\n",
       "      <th>ip_address</th>\n",
       "      <th>email_address</th>\n",
       "      <th>user_agent</th>\n",
       "      <th>customer_city</th>\n",
       "      <th>customer_state</th>\n",
       "      <th>customer_postal</th>\n",
       "      <th>EVENT_TIMESTAMP</th>\n",
       "      <th>customer_name</th>\n",
       "      <th>customer_address</th>\n",
       "      <th>phone_number</th>\n",
       "      <th>EVENT_LABEL</th>\n",
       "    </tr>\n",
       "  </thead>\n",
       "  <tbody>\n",
       "    <tr>\n",
       "      <th>0</th>\n",
       "      <td>84.138.6.238</td>\n",
       "      <td>synth_tmorton@yahoo.com</td>\n",
       "      <td>Mozilla/5.0 (X11; Linux i686) AppleWebKit/535....</td>\n",
       "      <td>Meganstad</td>\n",
       "      <td>LA</td>\n",
       "      <td>32733.0</td>\n",
       "      <td>2020-04-11 17:27:38</td>\n",
       "      <td>Brandon Moran</td>\n",
       "      <td>824 Price Bypass</td>\n",
       "      <td>(555)784 - 5238</td>\n",
       "      <td>0</td>\n",
       "    </tr>\n",
       "    <tr>\n",
       "      <th>1</th>\n",
       "      <td>194.147.250.63</td>\n",
       "      <td>synth_oscott@yahoo.com</td>\n",
       "      <td>Mozilla/5.0 (Macintosh; PPC Mac OS X 10_6_4 rv...</td>\n",
       "      <td>Christinaport</td>\n",
       "      <td>MN</td>\n",
       "      <td>34319.0</td>\n",
       "      <td>2020-04-11 17:31:12</td>\n",
       "      <td>Dominic Murray</td>\n",
       "      <td>13515 Ashley Haven Apt. 472</td>\n",
       "      <td>(555)114 - 6133</td>\n",
       "      <td>0</td>\n",
       "    </tr>\n",
       "    <tr>\n",
       "      <th>2</th>\n",
       "      <td>192.54.60.50</td>\n",
       "      <td>synth_aoliver@gmail.com</td>\n",
       "      <td>Mozilla/5.0 (iPad; CPU iPad OS 3_1_3 like Mac ...</td>\n",
       "      <td>Donaldfurt</td>\n",
       "      <td>WA</td>\n",
       "      <td>32436.0</td>\n",
       "      <td>2020-04-11 17:46:34</td>\n",
       "      <td>Anthony Abbott</td>\n",
       "      <td>039 Amy Glens</td>\n",
       "      <td>(555)780 - 7652</td>\n",
       "      <td>0</td>\n",
       "    </tr>\n",
       "    <tr>\n",
       "      <th>3</th>\n",
       "      <td>169.120.193.154</td>\n",
       "      <td>synth_clewis@gmail.com</td>\n",
       "      <td>Mozilla/5.0 (Macintosh; PPC Mac OS X 10_10_9; ...</td>\n",
       "      <td>Williamburgh</td>\n",
       "      <td>AL</td>\n",
       "      <td>34399.0</td>\n",
       "      <td>2020-04-11 17:48:52</td>\n",
       "      <td>Kimberly Webb</td>\n",
       "      <td>81397 Tom Forge</td>\n",
       "      <td>(555)588 - 4426</td>\n",
       "      <td>0</td>\n",
       "    </tr>\n",
       "    <tr>\n",
       "      <th>4</th>\n",
       "      <td>192.175.55.43</td>\n",
       "      <td>synth_katherinedavis@hotmail.com</td>\n",
       "      <td>Mozilla/5.0 (Macintosh; Intel Mac OS X 10_6_0 ...</td>\n",
       "      <td>East Markland</td>\n",
       "      <td>IL</td>\n",
       "      <td>33690.0</td>\n",
       "      <td>2020-04-11 17:49:23</td>\n",
       "      <td>Renee James</td>\n",
       "      <td>6815 Dawson Estate</td>\n",
       "      <td>(555)785 - 8274</td>\n",
       "      <td>0</td>\n",
       "    </tr>\n",
       "  </tbody>\n",
       "</table>\n",
       "</div>"
      ],
      "text/plain": [
       "        ip_address                     email_address                                         user_agent  customer_city customer_state  customer_postal      EVENT_TIMESTAMP   customer_name             customer_address     phone_number  EVENT_LABEL\n",
       "0     84.138.6.238           synth_tmorton@yahoo.com  Mozilla/5.0 (X11; Linux i686) AppleWebKit/535....      Meganstad             LA          32733.0  2020-04-11 17:27:38   Brandon Moran             824 Price Bypass  (555)784 - 5238            0\n",
       "1   194.147.250.63            synth_oscott@yahoo.com  Mozilla/5.0 (Macintosh; PPC Mac OS X 10_6_4 rv...  Christinaport             MN          34319.0  2020-04-11 17:31:12  Dominic Murray  13515 Ashley Haven Apt. 472  (555)114 - 6133            0\n",
       "2     192.54.60.50           synth_aoliver@gmail.com  Mozilla/5.0 (iPad; CPU iPad OS 3_1_3 like Mac ...     Donaldfurt             WA          32436.0  2020-04-11 17:46:34  Anthony Abbott                039 Amy Glens  (555)780 - 7652            0\n",
       "3  169.120.193.154            synth_clewis@gmail.com  Mozilla/5.0 (Macintosh; PPC Mac OS X 10_10_9; ...   Williamburgh             AL          34399.0  2020-04-11 17:48:52   Kimberly Webb              81397 Tom Forge  (555)588 - 4426            0\n",
       "4    192.175.55.43  synth_katherinedavis@hotmail.com  Mozilla/5.0 (Macintosh; Intel Mac OS X 10_6_0 ...  East Markland             IL          33690.0  2020-04-11 17:49:23     Renee James           6815 Dawson Estate  (555)785 - 8274            0"
      ]
     },
     "execution_count": 6,
     "metadata": {},
     "output_type": "execute_result"
    }
   ],
   "source": [
    "# -- connect to S3, snag file, and convert to a panda's dataframe --\n",
    "s3   = boto3.resource('s3')\n",
    "obj  = s3.Object(S3_BUCKET, S3_FILE)\n",
    "body = obj.get()['Body']\n",
    "df   = pd.read_csv(body)\n",
    "df.head()"
   ]
  },
  {
   "cell_type": "markdown",
   "metadata": {},
   "source": [
    "## Run  Batch Predictions  \n",
    "-----\n",
    "The following runs batch prediction on your test dataset.\n",
    "\n",
    "https://docs.aws.amazon.com/frauddetector/latest/ug/batch-predictions.html"
   ]
  },
  {
   "cell_type": "code",
   "execution_count": 7,
   "metadata": {},
   "outputs": [
    {
     "name": "stdout",
     "output_type": "stream",
     "text": [
      "\n",
      " -- event variables -- \n",
      "['ip_address', 'email_address', 'user_agent', 'customer_city', 'customer_state', 'customer_postal', 'customer_name', 'customer_address', 'phone_number']\n"
     ]
    }
   ],
   "source": [
    "def get_event_variables(EVENT_TYPE):\n",
    "    \"\"\" return list of variables used by a model \n",
    "    \n",
    "    \"\"\"\n",
    "    response = client.get_event_types(name=EVENT_TYPE)\n",
    "    event_variables = []\n",
    "\n",
    "    for v in response['eventTypes'][0]['eventVariables']:\n",
    "        event_variables.append(v)\n",
    "    return event_variables\n",
    "\n",
    "event_variables = get_event_variables(EVENT_TYPE)\n",
    "print(\"\\n -- event variables -- \")\n",
    "print(event_variables)"
   ]
  },
  {
   "cell_type": "markdown",
   "metadata": {},
   "source": [
    "#### Prepare Test Data\n",
    "-----\n",
    "<div class=\"alert alert-info\"> 💡 <strong> Add/Modify columns if needed. </strong>\n",
    "\n",
    "Does your data have columus of ENTITY_TYPE, ENTITY_ID and EVENT_ID? If not, add these columns. \n",
    "\n",
    "</div>\n",
    "\n",
    "<i> This particular dataset also has column EVENT_LABEL, we remove it since this is not expected for batch prediction jobs</i>"
   ]
  },
  {
   "cell_type": "code",
   "execution_count": 21,
   "metadata": {},
   "outputs": [
    {
     "name": "stdout",
     "output_type": "stream",
     "text": [
      "(100, 13)\n"
     ]
    },
    {
     "data": {
      "text/html": [
       "<div>\n",
       "<style scoped>\n",
       "    .dataframe tbody tr th:only-of-type {\n",
       "        vertical-align: middle;\n",
       "    }\n",
       "\n",
       "    .dataframe tbody tr th {\n",
       "        vertical-align: top;\n",
       "    }\n",
       "\n",
       "    .dataframe thead th {\n",
       "        text-align: right;\n",
       "    }\n",
       "</style>\n",
       "<table border=\"1\" class=\"dataframe\">\n",
       "  <thead>\n",
       "    <tr style=\"text-align: right;\">\n",
       "      <th></th>\n",
       "      <th>ip_address</th>\n",
       "      <th>email_address</th>\n",
       "      <th>user_agent</th>\n",
       "      <th>customer_city</th>\n",
       "      <th>customer_state</th>\n",
       "      <th>customer_postal</th>\n",
       "      <th>EVENT_TIMESTAMP</th>\n",
       "      <th>customer_name</th>\n",
       "      <th>customer_address</th>\n",
       "      <th>phone_number</th>\n",
       "      <th>ENTITY_ID</th>\n",
       "      <th>EVENT_ID</th>\n",
       "      <th>ENTITY_TYPE</th>\n",
       "    </tr>\n",
       "  </thead>\n",
       "  <tbody>\n",
       "    <tr>\n",
       "      <th>0</th>\n",
       "      <td>84.138.6.238</td>\n",
       "      <td>synth_tmorton@yahoo.com</td>\n",
       "      <td>Mozilla/5.0 (X11; Linux i686) AppleWebKit/535....</td>\n",
       "      <td>Meganstad</td>\n",
       "      <td>LA</td>\n",
       "      <td>32733.0</td>\n",
       "      <td>2020-04-11 17:27:38</td>\n",
       "      <td>Brandon Moran</td>\n",
       "      <td>824 Price Bypass</td>\n",
       "      <td>(555)784 - 5238</td>\n",
       "      <td>8</td>\n",
       "      <td>1</td>\n",
       "      <td>customer</td>\n",
       "    </tr>\n",
       "    <tr>\n",
       "      <th>1</th>\n",
       "      <td>194.147.250.63</td>\n",
       "      <td>synth_oscott@yahoo.com</td>\n",
       "      <td>Mozilla/5.0 (Macintosh; PPC Mac OS X 10_6_4 rv...</td>\n",
       "      <td>Christinaport</td>\n",
       "      <td>MN</td>\n",
       "      <td>34319.0</td>\n",
       "      <td>2020-04-11 17:31:12</td>\n",
       "      <td>Dominic Murray</td>\n",
       "      <td>13515 Ashley Haven Apt. 472</td>\n",
       "      <td>(555)114 - 6133</td>\n",
       "      <td>8</td>\n",
       "      <td>2</td>\n",
       "      <td>customer</td>\n",
       "    </tr>\n",
       "    <tr>\n",
       "      <th>2</th>\n",
       "      <td>192.54.60.50</td>\n",
       "      <td>synth_aoliver@gmail.com</td>\n",
       "      <td>Mozilla/5.0 (iPad; CPU iPad OS 3_1_3 like Mac ...</td>\n",
       "      <td>Donaldfurt</td>\n",
       "      <td>WA</td>\n",
       "      <td>32436.0</td>\n",
       "      <td>2020-04-11 17:46:34</td>\n",
       "      <td>Anthony Abbott</td>\n",
       "      <td>039 Amy Glens</td>\n",
       "      <td>(555)780 - 7652</td>\n",
       "      <td>8</td>\n",
       "      <td>3</td>\n",
       "      <td>customer</td>\n",
       "    </tr>\n",
       "    <tr>\n",
       "      <th>3</th>\n",
       "      <td>169.120.193.154</td>\n",
       "      <td>synth_clewis@gmail.com</td>\n",
       "      <td>Mozilla/5.0 (Macintosh; PPC Mac OS X 10_10_9; ...</td>\n",
       "      <td>Williamburgh</td>\n",
       "      <td>AL</td>\n",
       "      <td>34399.0</td>\n",
       "      <td>2020-04-11 17:48:52</td>\n",
       "      <td>Kimberly Webb</td>\n",
       "      <td>81397 Tom Forge</td>\n",
       "      <td>(555)588 - 4426</td>\n",
       "      <td>8</td>\n",
       "      <td>4</td>\n",
       "      <td>customer</td>\n",
       "    </tr>\n",
       "    <tr>\n",
       "      <th>4</th>\n",
       "      <td>192.175.55.43</td>\n",
       "      <td>synth_katherinedavis@hotmail.com</td>\n",
       "      <td>Mozilla/5.0 (Macintosh; Intel Mac OS X 10_6_0 ...</td>\n",
       "      <td>East Markland</td>\n",
       "      <td>IL</td>\n",
       "      <td>33690.0</td>\n",
       "      <td>2020-04-11 17:49:23</td>\n",
       "      <td>Renee James</td>\n",
       "      <td>6815 Dawson Estate</td>\n",
       "      <td>(555)785 - 8274</td>\n",
       "      <td>8</td>\n",
       "      <td>5</td>\n",
       "      <td>customer</td>\n",
       "    </tr>\n",
       "  </tbody>\n",
       "</table>\n",
       "</div>"
      ],
      "text/plain": [
       "        ip_address                     email_address                                         user_agent  customer_city customer_state  customer_postal      EVENT_TIMESTAMP   customer_name             customer_address     phone_number ENTITY_ID EVENT_ID ENTITY_TYPE\n",
       "0     84.138.6.238           synth_tmorton@yahoo.com  Mozilla/5.0 (X11; Linux i686) AppleWebKit/535....      Meganstad             LA          32733.0  2020-04-11 17:27:38   Brandon Moran             824 Price Bypass  (555)784 - 5238         8        1    customer\n",
       "1   194.147.250.63            synth_oscott@yahoo.com  Mozilla/5.0 (Macintosh; PPC Mac OS X 10_6_4 rv...  Christinaport             MN          34319.0  2020-04-11 17:31:12  Dominic Murray  13515 Ashley Haven Apt. 472  (555)114 - 6133         8        2    customer\n",
       "2     192.54.60.50           synth_aoliver@gmail.com  Mozilla/5.0 (iPad; CPU iPad OS 3_1_3 like Mac ...     Donaldfurt             WA          32436.0  2020-04-11 17:46:34  Anthony Abbott                039 Amy Glens  (555)780 - 7652         8        3    customer\n",
       "3  169.120.193.154            synth_clewis@gmail.com  Mozilla/5.0 (Macintosh; PPC Mac OS X 10_10_9; ...   Williamburgh             AL          34399.0  2020-04-11 17:48:52   Kimberly Webb              81397 Tom Forge  (555)588 - 4426         8        4    customer\n",
       "4    192.175.55.43  synth_katherinedavis@hotmail.com  Mozilla/5.0 (Macintosh; Intel Mac OS X 10_6_0 ...  East Markland             IL          33690.0  2020-04-11 17:49:23     Renee James           6815 Dawson Estate  (555)785 - 8274         8        5    customer"
      ]
     },
     "execution_count": 21,
     "metadata": {},
     "output_type": "execute_result"
    }
   ],
   "source": [
    "df_test = df.head(record_count).copy()\n",
    "\n",
    "df_test[\"ENTITY_ID\"] = \"8\" # we use a random number here, you can use anything that uniquely identifies an entity\n",
    "df_test[\"EVENT_ID\"] = [ str(x+1) for x in range(record_count) ]\n",
    "df_test[\"ENTITY_TYPE\"] = ENTITY_TYPE\n",
    "df_test.drop([\"EVENT_LABEL\"], axis=1, inplace=True)\n",
    "print(df_test.shape)\n",
    "df_test.head()"
   ]
  },
  {
   "cell_type": "markdown",
   "metadata": {},
   "source": [
    "#### Upload Test Data to S3\n",
    "-----"
   ]
  },
  {
   "cell_type": "code",
   "execution_count": 22,
   "metadata": {},
   "outputs": [
    {
     "data": {
      "text/plain": [
       "{'ResponseMetadata': {'RequestId': 'KJRW55PY7FNP3WWS',\n",
       "  'HostId': 'cXlD5+Dcy5O7xVWodVVEZSe096lL13O03crdVNhwIFkl4oMg5jSaOnM6IR9057ErJGcQjkXwLNE=',\n",
       "  'HTTPStatusCode': 200,\n",
       "  'HTTPHeaders': {'x-amz-id-2': 'cXlD5+Dcy5O7xVWodVVEZSe096lL13O03crdVNhwIFkl4oMg5jSaOnM6IR9057ErJGcQjkXwLNE=',\n",
       "   'x-amz-request-id': 'KJRW55PY7FNP3WWS',\n",
       "   'date': 'Fri, 16 Apr 2021 12:01:42 GMT',\n",
       "   'etag': '\"06e608e429a3bdfd494dd942155753ac\"',\n",
       "   'content-length': '0',\n",
       "   'server': 'AmazonS3'},\n",
       "  'RetryAttempts': 0},\n",
       " 'ETag': '\"06e608e429a3bdfd494dd942155753ac\"'}"
      ]
     },
     "execution_count": 22,
     "metadata": {},
     "output_type": "execute_result"
    }
   ],
   "source": [
    "INPUT_FILE = f\"project_1_newaccounts_{record_count}_bp.csv\"\n",
    "\n",
    "csv_buffer = StringIO()\n",
    "df_test.to_csv(csv_buffer, index=False)\n",
    "s3.Object(S3_BUCKET, INPUT_FILE).put(Body=csv_buffer.getvalue())"
   ]
  },
  {
   "cell_type": "markdown",
   "metadata": {},
   "source": [
    "#### Double Check on the Input CSV File\n",
    "-----\n",
    "\n",
    "<div class=\"alert alert-info\"> 💡 <strong> Check schema </strong>\n",
    "\n",
    "Does your test data looks as expected?. \n",
    "\n",
    "</div>"
   ]
  },
  {
   "cell_type": "code",
   "execution_count": 23,
   "metadata": {},
   "outputs": [
    {
     "name": "stdout",
     "output_type": "stream",
     "text": [
      "(100, 13)\n"
     ]
    },
    {
     "data": {
      "text/html": [
       "<div>\n",
       "<style scoped>\n",
       "    .dataframe tbody tr th:only-of-type {\n",
       "        vertical-align: middle;\n",
       "    }\n",
       "\n",
       "    .dataframe tbody tr th {\n",
       "        vertical-align: top;\n",
       "    }\n",
       "\n",
       "    .dataframe thead th {\n",
       "        text-align: right;\n",
       "    }\n",
       "</style>\n",
       "<table border=\"1\" class=\"dataframe\">\n",
       "  <thead>\n",
       "    <tr style=\"text-align: right;\">\n",
       "      <th></th>\n",
       "      <th>ip_address</th>\n",
       "      <th>email_address</th>\n",
       "      <th>user_agent</th>\n",
       "      <th>customer_city</th>\n",
       "      <th>customer_state</th>\n",
       "      <th>customer_postal</th>\n",
       "      <th>EVENT_TIMESTAMP</th>\n",
       "      <th>customer_name</th>\n",
       "      <th>customer_address</th>\n",
       "      <th>phone_number</th>\n",
       "      <th>ENTITY_ID</th>\n",
       "      <th>EVENT_ID</th>\n",
       "      <th>ENTITY_TYPE</th>\n",
       "    </tr>\n",
       "  </thead>\n",
       "  <tbody>\n",
       "    <tr>\n",
       "      <th>0</th>\n",
       "      <td>84.138.6.238</td>\n",
       "      <td>synth_tmorton@yahoo.com</td>\n",
       "      <td>Mozilla/5.0 (X11; Linux i686) AppleWebKit/535....</td>\n",
       "      <td>Meganstad</td>\n",
       "      <td>LA</td>\n",
       "      <td>32733.0</td>\n",
       "      <td>2020-04-11 17:27:38</td>\n",
       "      <td>Brandon Moran</td>\n",
       "      <td>824 Price Bypass</td>\n",
       "      <td>(555)784 - 5238</td>\n",
       "      <td>8</td>\n",
       "      <td>1</td>\n",
       "      <td>customer</td>\n",
       "    </tr>\n",
       "    <tr>\n",
       "      <th>1</th>\n",
       "      <td>194.147.250.63</td>\n",
       "      <td>synth_oscott@yahoo.com</td>\n",
       "      <td>Mozilla/5.0 (Macintosh; PPC Mac OS X 10_6_4 rv...</td>\n",
       "      <td>Christinaport</td>\n",
       "      <td>MN</td>\n",
       "      <td>34319.0</td>\n",
       "      <td>2020-04-11 17:31:12</td>\n",
       "      <td>Dominic Murray</td>\n",
       "      <td>13515 Ashley Haven Apt. 472</td>\n",
       "      <td>(555)114 - 6133</td>\n",
       "      <td>8</td>\n",
       "      <td>2</td>\n",
       "      <td>customer</td>\n",
       "    </tr>\n",
       "    <tr>\n",
       "      <th>2</th>\n",
       "      <td>192.54.60.50</td>\n",
       "      <td>synth_aoliver@gmail.com</td>\n",
       "      <td>Mozilla/5.0 (iPad; CPU iPad OS 3_1_3 like Mac ...</td>\n",
       "      <td>Donaldfurt</td>\n",
       "      <td>WA</td>\n",
       "      <td>32436.0</td>\n",
       "      <td>2020-04-11 17:46:34</td>\n",
       "      <td>Anthony Abbott</td>\n",
       "      <td>039 Amy Glens</td>\n",
       "      <td>(555)780 - 7652</td>\n",
       "      <td>8</td>\n",
       "      <td>3</td>\n",
       "      <td>customer</td>\n",
       "    </tr>\n",
       "    <tr>\n",
       "      <th>3</th>\n",
       "      <td>169.120.193.154</td>\n",
       "      <td>synth_clewis@gmail.com</td>\n",
       "      <td>Mozilla/5.0 (Macintosh; PPC Mac OS X 10_10_9; ...</td>\n",
       "      <td>Williamburgh</td>\n",
       "      <td>AL</td>\n",
       "      <td>34399.0</td>\n",
       "      <td>2020-04-11 17:48:52</td>\n",
       "      <td>Kimberly Webb</td>\n",
       "      <td>81397 Tom Forge</td>\n",
       "      <td>(555)588 - 4426</td>\n",
       "      <td>8</td>\n",
       "      <td>4</td>\n",
       "      <td>customer</td>\n",
       "    </tr>\n",
       "    <tr>\n",
       "      <th>4</th>\n",
       "      <td>192.175.55.43</td>\n",
       "      <td>synth_katherinedavis@hotmail.com</td>\n",
       "      <td>Mozilla/5.0 (Macintosh; Intel Mac OS X 10_6_0 ...</td>\n",
       "      <td>East Markland</td>\n",
       "      <td>IL</td>\n",
       "      <td>33690.0</td>\n",
       "      <td>2020-04-11 17:49:23</td>\n",
       "      <td>Renee James</td>\n",
       "      <td>6815 Dawson Estate</td>\n",
       "      <td>(555)785 - 8274</td>\n",
       "      <td>8</td>\n",
       "      <td>5</td>\n",
       "      <td>customer</td>\n",
       "    </tr>\n",
       "  </tbody>\n",
       "</table>\n",
       "</div>"
      ],
      "text/plain": [
       "        ip_address                     email_address                                         user_agent  customer_city customer_state customer_postal      EVENT_TIMESTAMP   customer_name             customer_address     phone_number ENTITY_ID EVENT_ID ENTITY_TYPE\n",
       "0     84.138.6.238           synth_tmorton@yahoo.com  Mozilla/5.0 (X11; Linux i686) AppleWebKit/535....      Meganstad             LA         32733.0  2020-04-11 17:27:38   Brandon Moran             824 Price Bypass  (555)784 - 5238         8        1    customer\n",
       "1   194.147.250.63            synth_oscott@yahoo.com  Mozilla/5.0 (Macintosh; PPC Mac OS X 10_6_4 rv...  Christinaport             MN         34319.0  2020-04-11 17:31:12  Dominic Murray  13515 Ashley Haven Apt. 472  (555)114 - 6133         8        2    customer\n",
       "2     192.54.60.50           synth_aoliver@gmail.com  Mozilla/5.0 (iPad; CPU iPad OS 3_1_3 like Mac ...     Donaldfurt             WA         32436.0  2020-04-11 17:46:34  Anthony Abbott                039 Amy Glens  (555)780 - 7652         8        3    customer\n",
       "3  169.120.193.154            synth_clewis@gmail.com  Mozilla/5.0 (Macintosh; PPC Mac OS X 10_10_9; ...   Williamburgh             AL         34399.0  2020-04-11 17:48:52   Kimberly Webb              81397 Tom Forge  (555)588 - 4426         8        4    customer\n",
       "4    192.175.55.43  synth_katherinedavis@hotmail.com  Mozilla/5.0 (Macintosh; Intel Mac OS X 10_6_0 ...  East Markland             IL         33690.0  2020-04-11 17:49:23     Renee James           6815 Dawson Estate  (555)785 - 8274         8        5    customer"
      ]
     },
     "execution_count": 23,
     "metadata": {},
     "output_type": "execute_result"
    }
   ],
   "source": [
    "obj  = s3.Object(S3_BUCKET, INPUT_FILE)\n",
    "body = obj.get()['Body']\n",
    "df_input   = pd.read_csv(body, keep_default_na=False, na_values=\"\", dtype=object)\n",
    "print(df_input.shape)\n",
    "df_input.head()"
   ]
  },
  {
   "cell_type": "markdown",
   "metadata": {},
   "source": [
    "#### Create a Batch Prediction Job\n",
    "-----\n",
    "\n",
    "https://boto3.amazonaws.com/v1/documentation/api/latest/reference/services/frauddetector.html#FraudDetector.Client.create_batch_prediction_job"
   ]
  },
  {
   "cell_type": "code",
   "execution_count": 24,
   "metadata": {},
   "outputs": [
    {
     "name": "stdout",
     "output_type": "stream",
     "text": [
      "-- creating batch prediction job --\n",
      "{'ResponseMetadata': {'RequestId': 'a118789e-41ae-4e34-bd86-5b0cf13597d5', 'HTTPStatusCode': 200, 'HTTPHeaders': {'date': 'Fri, 16 Apr 2021 12:01:54 GMT', 'content-type': 'application/x-amz-json-1.1', 'content-length': '2', 'connection': 'keep-alive', 'x-amzn-requestid': 'a118789e-41ae-4e34-bd86-5b0cf13597d5'}, 'RetryAttempts': 0}}\n"
     ]
    }
   ],
   "source": [
    "import random\n",
    "import string\n",
    "rdn_str = ''.join([random.choice(string.ascii_letters + string.digits) for n in range(6)])\n",
    "rdn_str = rdn_str.lower()\n",
    "\n",
    "job_id = 'batch_prediction_'+MODEL_NAME+\"_\"+rdn_str\n",
    "\n",
    "print(\"-- creating batch prediction job --\")\n",
    "response = client.create_batch_prediction_job(\n",
    "      jobId=job_id,\n",
    "      inputPath=\"s3://{0}/{1}\".format(S3_BUCKET,INPUT_FILE),\n",
    "      outputPath=\"s3://{0}\".format(S3_BUCKET),\n",
    "      eventTypeName=EVENT_TYPE,\n",
    "      detectorName=DETECTOR_NAME,\n",
    "      detectorVersion=DETECTOR_VER,\n",
    "      iamRoleArn=ARN_ROLE\n",
    ")\n",
    "print(response)"
   ]
  },
  {
   "cell_type": "markdown",
   "metadata": {},
   "source": [
    "<div class=\"alert alert-info\"> 💡 <strong> How to cancel Batch Prediction Job </strong>\n",
    "    \n",
    "Found something wrong and you don't want to wait?    \n",
    "\n",
    "</div>\n",
    "\n",
    "https://boto3.amazonaws.com/v1/documentation/api/latest/reference/services/frauddetector.html#FraudDetector.Client.cancel_batch_prediction_job\n",
    "\n",
    "\n",
    "```python\n",
    "\n",
    "response = client.cancel_batch_prediction_job(\n",
    "      jobId=job_id\n",
    "  )\n",
    "print(response)\n",
    "\n",
    "```"
   ]
  },
  {
   "cell_type": "markdown",
   "metadata": {},
   "source": [
    "#### Check Status\n",
    "-----\n",
    "\n",
    "https://boto3.amazonaws.com/v1/documentation/api/latest/reference/services/frauddetector.html#FraudDetector.Client.get_batch_prediction_jobs"
   ]
  },
  {
   "cell_type": "code",
   "execution_count": 25,
   "metadata": {},
   "outputs": [
    {
     "name": "stdout",
     "output_type": "stream",
     "text": [
      "Batch prediction status : COMPLETE\n",
      "Elapsed time : 60.437814474105835 seconds \n",
      "\n",
      "{'batchPredictions': [{'jobId': 'batch_prediction_project_1_model_wphz0w', 'status': 'COMPLETE', 'startTime': '2021-04-16T12:01:54Z', 'completionTime': '2021-04-16T12:02:43Z', 'lastHeartbeatTime': '2021-04-16T12:02:43Z', 'inputPath': 's3://mznzhen-hands-on-frauddetector/project_1_newaccounts_100_bp.csv', 'outputPath': 's3://mznzhen-hands-on-frauddetector', 'eventTypeName': 'customer_registration', 'detectorName': 'project_1_detector', 'detectorVersion': '1', 'iamRoleArn': 'arn:aws:iam::602665643546:role/service-role/AmazonFraudDetector-DataAccessRole-1603121182197', 'arn': 'arn:aws:frauddetector:us-east-2:602665643546:batch-prediction/batch_prediction_project_1_model_wphz0w', 'processedRecordsCount': 100, 'totalRecordsCount': 100}], 'ResponseMetadata': {'RequestId': '501fe8f8-7ead-48a7-a047-c7840983ac68', 'HTTPStatusCode': 200, 'HTTPHeaders': {'date': 'Fri, 16 Apr 2021 12:03:05 GMT', 'content-type': 'application/x-amz-json-1.1', 'content-length': '714', 'connection': 'keep-alive', 'x-amzn-requestid': '501fe8f8-7ead-48a7-a047-c7840983ac68'}, 'RetryAttempts': 0}}\n"
     ]
    }
   ],
   "source": [
    "#-- wait until the batch prediction job is complete \n",
    "print(\"--- wait until the batch prediction job is complete \")\n",
    "stime = time.time()\n",
    "while True:\n",
    "    clear_output(wait=True)\n",
    "    response = client.get_batch_prediction_jobs(\n",
    "      jobId=job_id,\n",
    "#       maxResults=123,\n",
    "#       nextToken='string'\n",
    "    )\n",
    "    status = response['batchPredictions'][0]['status']\n",
    "    if status != 'COMPLETE':\n",
    "        print(f\"current progress: {(time.time() - stime)/60:{3}.{3}} minutes\")\n",
    "        time.sleep(60)  # sleep for 1 minute \n",
    "    if status == 'COMPLETE':\n",
    "        print(\"Batch prediction status : \" +  status)\n",
    "        break\n",
    "        \n",
    "etime = time.time()\n",
    "print(\"Elapsed time : %s\" % (etime - stime) + \" seconds \\n\"  )\n",
    "print(response)"
   ]
  },
  {
   "cell_type": "markdown",
   "metadata": {},
   "source": [
    "#### Look at Output\n",
    "-----"
   ]
  },
  {
   "cell_type": "code",
   "execution_count": 26,
   "metadata": {},
   "outputs": [
    {
     "name": "stdout",
     "output_type": "stream",
     "text": [
      "batch_prediction_project_1_model_wphz0w_1618574544_output.csv\n",
      "(100, 16)\n"
     ]
    },
    {
     "data": {
      "text/html": [
       "<div>\n",
       "<style scoped>\n",
       "    .dataframe tbody tr th:only-of-type {\n",
       "        vertical-align: middle;\n",
       "    }\n",
       "\n",
       "    .dataframe tbody tr th {\n",
       "        vertical-align: top;\n",
       "    }\n",
       "\n",
       "    .dataframe thead th {\n",
       "        text-align: right;\n",
       "    }\n",
       "</style>\n",
       "<table border=\"1\" class=\"dataframe\">\n",
       "  <thead>\n",
       "    <tr style=\"text-align: right;\">\n",
       "      <th></th>\n",
       "      <th>ip_address</th>\n",
       "      <th>email_address</th>\n",
       "      <th>user_agent</th>\n",
       "      <th>customer_city</th>\n",
       "      <th>customer_state</th>\n",
       "      <th>customer_postal</th>\n",
       "      <th>EVENT_TIMESTAMP</th>\n",
       "      <th>customer_name</th>\n",
       "      <th>customer_address</th>\n",
       "      <th>phone_number</th>\n",
       "      <th>ENTITY_ID</th>\n",
       "      <th>EVENT_ID</th>\n",
       "      <th>ENTITY_TYPE</th>\n",
       "      <th>MODEL_SCORES</th>\n",
       "      <th>OUTCOMES</th>\n",
       "      <th>STATUS</th>\n",
       "    </tr>\n",
       "  </thead>\n",
       "  <tbody>\n",
       "    <tr>\n",
       "      <th>0</th>\n",
       "      <td>192.54.60.50</td>\n",
       "      <td>synth_aoliver@gmail.com</td>\n",
       "      <td>Mozilla/5.0 (iPad; CPU iPad OS 3_1_3 like Mac ...</td>\n",
       "      <td>Donaldfurt</td>\n",
       "      <td>WA</td>\n",
       "      <td>32436.0</td>\n",
       "      <td>2020-04-11T17:46:34.000Z</td>\n",
       "      <td>Anthony Abbott</td>\n",
       "      <td>039 Amy Glens</td>\n",
       "      <td>(555)780 - 7652</td>\n",
       "      <td>8</td>\n",
       "      <td>3</td>\n",
       "      <td>customer</td>\n",
       "      <td>{'project_1_model': 22.0}</td>\n",
       "      <td>approve</td>\n",
       "      <td>Success</td>\n",
       "    </tr>\n",
       "    <tr>\n",
       "      <th>1</th>\n",
       "      <td>84.138.6.238</td>\n",
       "      <td>synth_tmorton@yahoo.com</td>\n",
       "      <td>Mozilla/5.0 (X11; Linux i686) AppleWebKit/535....</td>\n",
       "      <td>Meganstad</td>\n",
       "      <td>LA</td>\n",
       "      <td>32733.0</td>\n",
       "      <td>2020-04-11T17:27:38.000Z</td>\n",
       "      <td>Brandon Moran</td>\n",
       "      <td>824 Price Bypass</td>\n",
       "      <td>(555)784 - 5238</td>\n",
       "      <td>8</td>\n",
       "      <td>1</td>\n",
       "      <td>customer</td>\n",
       "      <td>{'project_1_model': 14.0}</td>\n",
       "      <td>approve</td>\n",
       "      <td>Success</td>\n",
       "    </tr>\n",
       "    <tr>\n",
       "      <th>2</th>\n",
       "      <td>194.147.250.63</td>\n",
       "      <td>synth_oscott@yahoo.com</td>\n",
       "      <td>Mozilla/5.0 (Macintosh; PPC Mac OS X 10_6_4 rv...</td>\n",
       "      <td>Christinaport</td>\n",
       "      <td>MN</td>\n",
       "      <td>34319.0</td>\n",
       "      <td>2020-04-11T17:31:12.000Z</td>\n",
       "      <td>Dominic Murray</td>\n",
       "      <td>13515 Ashley Haven Apt. 472</td>\n",
       "      <td>(555)114 - 6133</td>\n",
       "      <td>8</td>\n",
       "      <td>2</td>\n",
       "      <td>customer</td>\n",
       "      <td>{'project_1_model': 84.0}</td>\n",
       "      <td>approve</td>\n",
       "      <td>Success</td>\n",
       "    </tr>\n",
       "    <tr>\n",
       "      <th>3</th>\n",
       "      <td>169.120.193.154</td>\n",
       "      <td>synth_clewis@gmail.com</td>\n",
       "      <td>Mozilla/5.0 (Macintosh; PPC Mac OS X 10_10_9; ...</td>\n",
       "      <td>Williamburgh</td>\n",
       "      <td>AL</td>\n",
       "      <td>34399.0</td>\n",
       "      <td>2020-04-11T17:48:52.000Z</td>\n",
       "      <td>Kimberly Webb</td>\n",
       "      <td>81397 Tom Forge</td>\n",
       "      <td>(555)588 - 4426</td>\n",
       "      <td>8</td>\n",
       "      <td>4</td>\n",
       "      <td>customer</td>\n",
       "      <td>{'project_1_model': 953.0}</td>\n",
       "      <td>block</td>\n",
       "      <td>Success</td>\n",
       "    </tr>\n",
       "    <tr>\n",
       "      <th>4</th>\n",
       "      <td>192.175.55.43</td>\n",
       "      <td>synth_katherinedavis@hotmail.com</td>\n",
       "      <td>Mozilla/5.0 (Macintosh; Intel Mac OS X 10_6_0 ...</td>\n",
       "      <td>East Markland</td>\n",
       "      <td>IL</td>\n",
       "      <td>33690.0</td>\n",
       "      <td>2020-04-11T17:49:23.000Z</td>\n",
       "      <td>Renee James</td>\n",
       "      <td>6815 Dawson Estate</td>\n",
       "      <td>(555)785 - 8274</td>\n",
       "      <td>8</td>\n",
       "      <td>5</td>\n",
       "      <td>customer</td>\n",
       "      <td>{'project_1_model': 615.0}</td>\n",
       "      <td>friction</td>\n",
       "      <td>Success</td>\n",
       "    </tr>\n",
       "  </tbody>\n",
       "</table>\n",
       "</div>"
      ],
      "text/plain": [
       "        ip_address                     email_address                                         user_agent  customer_city customer_state customer_postal           EVENT_TIMESTAMP   customer_name             customer_address     phone_number ENTITY_ID EVENT_ID ENTITY_TYPE                MODEL_SCORES  OUTCOMES   STATUS\n",
       "0     192.54.60.50           synth_aoliver@gmail.com  Mozilla/5.0 (iPad; CPU iPad OS 3_1_3 like Mac ...     Donaldfurt             WA         32436.0  2020-04-11T17:46:34.000Z  Anthony Abbott                039 Amy Glens  (555)780 - 7652         8        3    customer   {'project_1_model': 22.0}   approve  Success\n",
       "1     84.138.6.238           synth_tmorton@yahoo.com  Mozilla/5.0 (X11; Linux i686) AppleWebKit/535....      Meganstad             LA         32733.0  2020-04-11T17:27:38.000Z   Brandon Moran             824 Price Bypass  (555)784 - 5238         8        1    customer   {'project_1_model': 14.0}   approve  Success\n",
       "2   194.147.250.63            synth_oscott@yahoo.com  Mozilla/5.0 (Macintosh; PPC Mac OS X 10_6_4 rv...  Christinaport             MN         34319.0  2020-04-11T17:31:12.000Z  Dominic Murray  13515 Ashley Haven Apt. 472  (555)114 - 6133         8        2    customer   {'project_1_model': 84.0}   approve  Success\n",
       "3  169.120.193.154            synth_clewis@gmail.com  Mozilla/5.0 (Macintosh; PPC Mac OS X 10_10_9; ...   Williamburgh             AL         34399.0  2020-04-11T17:48:52.000Z   Kimberly Webb              81397 Tom Forge  (555)588 - 4426         8        4    customer  {'project_1_model': 953.0}     block  Success\n",
       "4    192.175.55.43  synth_katherinedavis@hotmail.com  Mozilla/5.0 (Macintosh; Intel Mac OS X 10_6_0 ...  East Markland             IL         33690.0  2020-04-11T17:49:23.000Z     Renee James           6815 Dawson Estate  (555)785 - 8274         8        5    customer  {'project_1_model': 615.0}  friction  Success"
      ]
     },
     "execution_count": 26,
     "metadata": {},
     "output_type": "execute_result"
    }
   ],
   "source": [
    "# The output file name starts with the job id\n",
    "OUTPUT_FILE = s3_client.list_objects_v2(Bucket=S3_BUCKET, Prefix=job_id)['Contents'][0]['Key']\n",
    "print(OUTPUT_FILE)\n",
    "\n",
    "s3   = boto3.resource('s3')\n",
    "obj  = s3.Object(S3_BUCKET, OUTPUT_FILE)\n",
    "body = obj.get()['Body']\n",
    "df_output   = pd.read_csv(body, keep_default_na=False, na_values=\"\", dtype=object)\n",
    "print(df_output.shape)\n",
    "df_output.head()"
   ]
  },
  {
   "cell_type": "markdown",
   "metadata": {},
   "source": [
    "#### Delete Batch Prediction Job\n",
    "-----\n",
    "\n",
    "https://boto3.amazonaws.com/v1/documentation/api/latest/reference/services/frauddetector.html#FraudDetector.Client.delete_batch_prediction_job"
   ]
  },
  {
   "cell_type": "code",
   "execution_count": 34,
   "metadata": {},
   "outputs": [
    {
     "name": "stdout",
     "output_type": "stream",
     "text": [
      "{'ResponseMetadata': {'RequestId': 'f1b005da-0c4a-40d9-aba9-2ad9694a8026', 'HTTPStatusCode': 200, 'HTTPHeaders': {'date': 'Fri, 16 Apr 2021 12:12:47 GMT', 'content-type': 'application/x-amz-json-1.1', 'content-length': '2', 'connection': 'keep-alive', 'x-amzn-requestid': 'f1b005da-0c4a-40d9-aba9-2ad9694a8026'}, 'RetryAttempts': 0}}\n"
     ]
    }
   ],
   "source": [
    "response = client.delete_batch_prediction_job(\n",
    "      jobId=job_id\n",
    "  )\n",
    "print(response)"
   ]
  },
  {
   "cell_type": "markdown",
   "metadata": {},
   "source": [
    "### Take a look at your predictions\n",
    "-----\n",
    "Each record will have a score and the outcome of any rule conditions met. "
   ]
  },
  {
   "cell_type": "code",
   "execution_count": 32,
   "metadata": {},
   "outputs": [
    {
     "name": "stdout",
     "output_type": "stream",
     "text": [
      "(100, 16)\n"
     ]
    },
    {
     "data": {
      "text/html": [
       "<div>\n",
       "<style scoped>\n",
       "    .dataframe tbody tr th:only-of-type {\n",
       "        vertical-align: middle;\n",
       "    }\n",
       "\n",
       "    .dataframe tbody tr th {\n",
       "        vertical-align: top;\n",
       "    }\n",
       "\n",
       "    .dataframe thead th {\n",
       "        text-align: right;\n",
       "    }\n",
       "</style>\n",
       "<table border=\"1\" class=\"dataframe\">\n",
       "  <thead>\n",
       "    <tr style=\"text-align: right;\">\n",
       "      <th></th>\n",
       "      <th>ip_address</th>\n",
       "      <th>email_address</th>\n",
       "      <th>user_agent</th>\n",
       "      <th>customer_city</th>\n",
       "      <th>customer_state</th>\n",
       "      <th>customer_postal</th>\n",
       "      <th>EVENT_TIMESTAMP</th>\n",
       "      <th>customer_name</th>\n",
       "      <th>customer_address</th>\n",
       "      <th>phone_number</th>\n",
       "      <th>ENTITY_ID</th>\n",
       "      <th>EVENT_ID</th>\n",
       "      <th>ENTITY_TYPE</th>\n",
       "      <th>OUTCOMES</th>\n",
       "      <th>STATUS</th>\n",
       "      <th>score</th>\n",
       "    </tr>\n",
       "  </thead>\n",
       "  <tbody>\n",
       "    <tr>\n",
       "      <th>0</th>\n",
       "      <td>192.54.60.50</td>\n",
       "      <td>synth_aoliver@gmail.com</td>\n",
       "      <td>Mozilla/5.0 (iPad; CPU iPad OS 3_1_3 like Mac ...</td>\n",
       "      <td>Donaldfurt</td>\n",
       "      <td>WA</td>\n",
       "      <td>32436.0</td>\n",
       "      <td>2020-04-11T17:46:34.000Z</td>\n",
       "      <td>Anthony Abbott</td>\n",
       "      <td>039 Amy Glens</td>\n",
       "      <td>(555)780 - 7652</td>\n",
       "      <td>8</td>\n",
       "      <td>3</td>\n",
       "      <td>customer</td>\n",
       "      <td>approve</td>\n",
       "      <td>Success</td>\n",
       "      <td>22.0</td>\n",
       "    </tr>\n",
       "    <tr>\n",
       "      <th>1</th>\n",
       "      <td>84.138.6.238</td>\n",
       "      <td>synth_tmorton@yahoo.com</td>\n",
       "      <td>Mozilla/5.0 (X11; Linux i686) AppleWebKit/535....</td>\n",
       "      <td>Meganstad</td>\n",
       "      <td>LA</td>\n",
       "      <td>32733.0</td>\n",
       "      <td>2020-04-11T17:27:38.000Z</td>\n",
       "      <td>Brandon Moran</td>\n",
       "      <td>824 Price Bypass</td>\n",
       "      <td>(555)784 - 5238</td>\n",
       "      <td>8</td>\n",
       "      <td>1</td>\n",
       "      <td>customer</td>\n",
       "      <td>approve</td>\n",
       "      <td>Success</td>\n",
       "      <td>14.0</td>\n",
       "    </tr>\n",
       "    <tr>\n",
       "      <th>2</th>\n",
       "      <td>194.147.250.63</td>\n",
       "      <td>synth_oscott@yahoo.com</td>\n",
       "      <td>Mozilla/5.0 (Macintosh; PPC Mac OS X 10_6_4 rv...</td>\n",
       "      <td>Christinaport</td>\n",
       "      <td>MN</td>\n",
       "      <td>34319.0</td>\n",
       "      <td>2020-04-11T17:31:12.000Z</td>\n",
       "      <td>Dominic Murray</td>\n",
       "      <td>13515 Ashley Haven Apt. 472</td>\n",
       "      <td>(555)114 - 6133</td>\n",
       "      <td>8</td>\n",
       "      <td>2</td>\n",
       "      <td>customer</td>\n",
       "      <td>approve</td>\n",
       "      <td>Success</td>\n",
       "      <td>84.0</td>\n",
       "    </tr>\n",
       "    <tr>\n",
       "      <th>3</th>\n",
       "      <td>169.120.193.154</td>\n",
       "      <td>synth_clewis@gmail.com</td>\n",
       "      <td>Mozilla/5.0 (Macintosh; PPC Mac OS X 10_10_9; ...</td>\n",
       "      <td>Williamburgh</td>\n",
       "      <td>AL</td>\n",
       "      <td>34399.0</td>\n",
       "      <td>2020-04-11T17:48:52.000Z</td>\n",
       "      <td>Kimberly Webb</td>\n",
       "      <td>81397 Tom Forge</td>\n",
       "      <td>(555)588 - 4426</td>\n",
       "      <td>8</td>\n",
       "      <td>4</td>\n",
       "      <td>customer</td>\n",
       "      <td>block</td>\n",
       "      <td>Success</td>\n",
       "      <td>953.0</td>\n",
       "    </tr>\n",
       "    <tr>\n",
       "      <th>4</th>\n",
       "      <td>192.175.55.43</td>\n",
       "      <td>synth_katherinedavis@hotmail.com</td>\n",
       "      <td>Mozilla/5.0 (Macintosh; Intel Mac OS X 10_6_0 ...</td>\n",
       "      <td>East Markland</td>\n",
       "      <td>IL</td>\n",
       "      <td>33690.0</td>\n",
       "      <td>2020-04-11T17:49:23.000Z</td>\n",
       "      <td>Renee James</td>\n",
       "      <td>6815 Dawson Estate</td>\n",
       "      <td>(555)785 - 8274</td>\n",
       "      <td>8</td>\n",
       "      <td>5</td>\n",
       "      <td>customer</td>\n",
       "      <td>friction</td>\n",
       "      <td>Success</td>\n",
       "      <td>615.0</td>\n",
       "    </tr>\n",
       "  </tbody>\n",
       "</table>\n",
       "</div>"
      ],
      "text/plain": [
       "        ip_address                     email_address                                         user_agent  customer_city customer_state customer_postal           EVENT_TIMESTAMP   customer_name             customer_address     phone_number ENTITY_ID EVENT_ID ENTITY_TYPE  OUTCOMES   STATUS  score\n",
       "0     192.54.60.50           synth_aoliver@gmail.com  Mozilla/5.0 (iPad; CPU iPad OS 3_1_3 like Mac ...     Donaldfurt             WA         32436.0  2020-04-11T17:46:34.000Z  Anthony Abbott                039 Amy Glens  (555)780 - 7652         8        3    customer   approve  Success   22.0\n",
       "1     84.138.6.238           synth_tmorton@yahoo.com  Mozilla/5.0 (X11; Linux i686) AppleWebKit/535....      Meganstad             LA         32733.0  2020-04-11T17:27:38.000Z   Brandon Moran             824 Price Bypass  (555)784 - 5238         8        1    customer   approve  Success   14.0\n",
       "2   194.147.250.63            synth_oscott@yahoo.com  Mozilla/5.0 (Macintosh; PPC Mac OS X 10_6_4 rv...  Christinaport             MN         34319.0  2020-04-11T17:31:12.000Z  Dominic Murray  13515 Ashley Haven Apt. 472  (555)114 - 6133         8        2    customer   approve  Success   84.0\n",
       "3  169.120.193.154            synth_clewis@gmail.com  Mozilla/5.0 (Macintosh; PPC Mac OS X 10_10_9; ...   Williamburgh             AL         34399.0  2020-04-11T17:48:52.000Z   Kimberly Webb              81397 Tom Forge  (555)588 - 4426         8        4    customer     block  Success  953.0\n",
       "4    192.175.55.43  synth_katherinedavis@hotmail.com  Mozilla/5.0 (Macintosh; Intel Mac OS X 10_6_0 ...  East Markland             IL         33690.0  2020-04-11T17:49:23.000Z     Renee James           6815 Dawson Estate  (555)785 - 8274         8        5    customer  friction  Success  615.0"
      ]
     },
     "execution_count": 32,
     "metadata": {},
     "output_type": "execute_result"
    }
   ],
   "source": [
    "predictions = df_output.copy()\n",
    "predictions['score'] = predictions['MODEL_SCORES'].str.slice(19,-1).astype(float)\n",
    "predictions.drop(['MODEL_SCORES'], axis=1, inplace=True)\n",
    "print(predictions.shape)\n",
    "predictions.head()"
   ]
  },
  {
   "cell_type": "markdown",
   "metadata": {},
   "source": [
    "### Make a Histogram of Scores \n",
    "-----\n",
    "check out the distrirbution of scores. "
   ]
  },
  {
   "cell_type": "code",
   "execution_count": 33,
   "metadata": {},
   "outputs": [
    {
     "data": {
      "image/png": "[encoded data removed]",
      "text/plain": [
       "<Figure size 1440x720 with 1 Axes>"
      ]
     },
     "metadata": {
      "needs_background": "light"
     },
     "output_type": "display_data"
    }
   ],
   "source": [
    "import matplotlib.pyplot as plt\n",
    "import seaborn as sns\n",
    "\n",
    "predictions['score_bin'] = pd.cut(predictions['score'],100 ,labels= list(range(0,1000,10)))\n",
    "predictions.loc[predictions['score'] >= 985, 'score_outcome'] = 'predicted fraud'\n",
    "predictions.loc[predictions['score'] < 985, 'score_outcome'] = 'predicted legit'\n",
    "ctab = pd.crosstab(predictions['score_bin'], predictions['score_outcome']).reset_index()\n",
    "\n",
    "plt.figure(figsize=(20,10))\n",
    "plt.bar(ctab['score_bin'], ctab['predicted fraud'], width=7)\n",
    "plt.bar(ctab['score_bin'], ctab['predicted legit'], width=7)\n",
    "plt.axvline(x=985, ls='--', C='red')\n",
    "plt.title(\"Sample Data, Score Distribution\")\n",
    "plt.text( 955, 14, 'score >= 985')\n",
    "plt.xlabel('Score')\n",
    "plt.ylabel('Frequency')\n",
    "plt.show()"
   ]
  },
  {
   "cell_type": "markdown",
   "metadata": {},
   "source": [
    "### Take a look at your prediction outcomes\n",
    "-----\n",
    "see the potential impact from actions"
   ]
  },
  {
   "cell_type": "code",
   "execution_count": 35,
   "metadata": {},
   "outputs": [
    {
     "data": {
      "text/html": [
       "<div>\n",
       "<style scoped>\n",
       "    .dataframe tbody tr th:only-of-type {\n",
       "        vertical-align: middle;\n",
       "    }\n",
       "\n",
       "    .dataframe tbody tr th {\n",
       "        vertical-align: top;\n",
       "    }\n",
       "\n",
       "    .dataframe thead th {\n",
       "        text-align: right;\n",
       "    }\n",
       "</style>\n",
       "<table border=\"1\" class=\"dataframe\">\n",
       "  <thead>\n",
       "    <tr style=\"text-align: right;\">\n",
       "      <th></th>\n",
       "      <th>OUTCOMES</th>\n",
       "      <th>mean</th>\n",
       "      <th>count</th>\n",
       "      <th>pct_total</th>\n",
       "    </tr>\n",
       "  </thead>\n",
       "  <tbody>\n",
       "    <tr>\n",
       "      <th>0</th>\n",
       "      <td>approve</td>\n",
       "      <td>135.420455</td>\n",
       "      <td>88</td>\n",
       "      <td>0.88</td>\n",
       "    </tr>\n",
       "    <tr>\n",
       "      <th>1</th>\n",
       "      <td>block</td>\n",
       "      <td>985.800000</td>\n",
       "      <td>5</td>\n",
       "      <td>0.05</td>\n",
       "    </tr>\n",
       "    <tr>\n",
       "      <th>2</th>\n",
       "      <td>friction</td>\n",
       "      <td>709.333333</td>\n",
       "      <td>6</td>\n",
       "      <td>0.06</td>\n",
       "    </tr>\n",
       "    <tr>\n",
       "      <th>3</th>\n",
       "      <td>review</td>\n",
       "      <td>879.000000</td>\n",
       "      <td>1</td>\n",
       "      <td>0.01</td>\n",
       "    </tr>\n",
       "  </tbody>\n",
       "</table>\n",
       "</div>"
      ],
      "text/plain": [
       "   OUTCOMES        mean  count  pct_total\n",
       "0   approve  135.420455     88       0.88\n",
       "1     block  985.800000      5       0.05\n",
       "2  friction  709.333333      6       0.06\n",
       "3    review  879.000000      1       0.01"
      ]
     },
     "execution_count": 35,
     "metadata": {},
     "output_type": "execute_result"
    }
   ],
   "source": [
    "predictions['OUTCOMES'] = predictions['OUTCOMES'].astype(str)\n",
    "pred_summary = predictions.groupby(['OUTCOMES'])['score'].agg(['mean', 'count']).reset_index()\n",
    "pred_summary['pct_total'] = pred_summary['count']/predictions.shape[0]\n",
    "pred_summary"
   ]
  },
  {
   "cell_type": "code",
   "execution_count": 36,
   "metadata": {},
   "outputs": [
    {
     "name": "stdout",
     "output_type": "stream",
     "text": [
      "Confusion Matrix by Outcome\n"
     ]
    },
    {
     "data": {
      "image/png": "[encoded data removed]",
      "text/plain": [
       "<Figure size 1440x360 with 4 Axes>"
      ]
     },
     "metadata": {
      "needs_background": "light"
     },
     "output_type": "display_data"
    }
   ],
   "source": [
    "def model_confusion_matrix(predictions):\n",
    "     \n",
    "    fig, (ax1, ax2) = plt.subplots(nrows=1, ncols=2, figsize=(20, 5))\n",
    "    \n",
    "    print(\"Confusion Matrix by Outcome\")\n",
    "    confusion_matrix = pd.crosstab(df['EVENT_LABEL'], predictions['OUTCOMES'].astype(str), margins=True, rownames=['Actual'], colnames=['Predicted'])\n",
    "    confusion_matrix_pct = pd.crosstab(df['EVENT_LABEL'], predictions['OUTCOMES'].astype(str), normalize=\"all\", margins=True,rownames=['Actual'], colnames=['Predicted']).round(3)\n",
    "    sns.heatmap(confusion_matrix, annot=True, fmt='g',cmap=\"YlGnBu\", ax=ax1)\n",
    "    sns.heatmap(confusion_matrix_pct, annot=True, fmt='g',cmap=\"YlGnBu\", ax=ax2)\n",
    " \n",
    "    ax1.title.set_text('Counts')\n",
    "    ax2.title.set_text('Pct')\n",
    "\n",
    "    \n",
    "    plt.show()\n",
    "    \n",
    "    \n",
    "model_confusion_matrix(predictions)"
   ]
  },
  {
   "cell_type": "markdown",
   "metadata": {},
   "source": [
    "###  Write Predictions to File\n",
    "\n",
    "-----\n",
    "writing out predictions to a file allows you to analyze with other tools like QuickSight \n",
    "\n",
    "```python\n",
    "\n",
    "# -- optionally write predictions to a CSV file -- \n",
    "predictions.to_csv(FILE + \".csv\", index=False)\n",
    "# -- or to a XLS file \n",
    "predictions.to_excel(FILE + \".xlsx\", index=False)\n",
    "\n",
    "```"
   ]
  },
  {
   "cell_type": "code",
   "execution_count": null,
   "metadata": {},
   "outputs": [],
   "source": [
    "predictions.to_csv(\"project_1_5k_predictions.csv\", index=False)"
   ]
  },
  {
   "cell_type": "code",
   "execution_count": null,
   "metadata": {},
   "outputs": [],
   "source": []
  }
 ],
 "metadata": {
  "kernelspec": {
   "display_name": "conda_python3",
   "language": "python",
   "name": "conda_python3"
  },
  "language_info": {
   "codemirror_mode": {
    "name": "ipython",
    "version": 3
   },
   "file_extension": ".py",
   "mimetype": "text/x-python",
   "name": "python",
   "nbconvert_exporter": "python",
   "pygments_lexer": "ipython3",
   "version": "3.6.10"
  }
 },
 "nbformat": 4,
 "nbformat_minor": 4
}
